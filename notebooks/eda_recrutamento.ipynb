{
 "cells": [
  {
   "cell_type": "markdown",
   "id": "fab769a6",
   "metadata": {},
   "source": [
    "## Carregamento de dados"
   ]
  },
  {
   "cell_type": "code",
   "execution_count": 2,
   "id": "0d922568",
   "metadata": {},
   "outputs": [],
   "source": [
    "import pandas as pd\n",
    "import matplotlib.pyplot as plt\n",
    "import seaborn as sns"
   ]
  },
  {
   "cell_type": "code",
   "execution_count": 3,
   "id": "ee25d94b",
   "metadata": {},
   "outputs": [
    {
     "name": "stderr",
     "output_type": "stream",
     "text": [
      "C:\\Users\\mahno\\AppData\\Local\\Temp\\ipykernel_17016\\2581145174.py:1: DtypeWarning: Columns (17,40) have mixed types. Specify dtype option on import or set low_memory=False.\n",
      "  df = pd.read_csv('../data/processed/df_total.csv')\n"
     ]
    },
    {
     "name": "stdout",
     "output_type": "stream",
     "text": [
      "   codigo_vaga informacoes_basicas.data_requicisao  \\\n",
      "0         5185                          04-05-2021   \n",
      "1         5184                          04-05-2021   \n",
      "2         5184                          04-05-2021   \n",
      "3         5184                          04-05-2021   \n",
      "4         5184                          04-05-2021   \n",
      "\n",
      "  informacoes_basicas.limite_esperado_para_contratacao  \\\n",
      "0                                         00-00-0000     \n",
      "1                                         00-00-0000     \n",
      "2                                         00-00-0000     \n",
      "3                                         00-00-0000     \n",
      "4                                         00-00-0000     \n",
      "\n",
      "  informacoes_basicas.titulo_vaga informacoes_basicas.vaga_sap  \\\n",
      "0                Operation Lead -                          Não   \n",
      "1          Consultor PP/QM Sênior                          Não   \n",
      "2          Consultor PP/QM Sênior                          Não   \n",
      "3          Consultor PP/QM Sênior                          Não   \n",
      "4          Consultor PP/QM Sênior                          Não   \n",
      "\n",
      "  informacoes_basicas.cliente informacoes_basicas.solicitante_cliente  \\\n",
      "0    Morris, Moran and Dodson                   Dra. Catarina Marques   \n",
      "1    Morris, Moran and Dodson                   Dra. Catarina Marques   \n",
      "2    Morris, Moran and Dodson                   Dra. Catarina Marques   \n",
      "3    Morris, Moran and Dodson                   Dra. Catarina Marques   \n",
      "4    Morris, Moran and Dodson                   Dra. Catarina Marques   \n",
      "\n",
      "  informacoes_basicas.empresa_divisao informacoes_basicas.requisitante  \\\n",
      "0                  Decision São Paulo             Maria Laura Nogueira   \n",
      "1                  Decision São Paulo             Maria Laura Nogueira   \n",
      "2                  Decision São Paulo             Maria Laura Nogueira   \n",
      "3                  Decision São Paulo             Maria Laura Nogueira   \n",
      "4                  Decision São Paulo             Maria Laura Nogueira   \n",
      "\n",
      "  informacoes_basicas.analista_responsavel  ... cargo_atual.id_ibrati  \\\n",
      "0                     Srta. Bella Ferreira  ...                   NaN   \n",
      "1                           Yasmin da Rosa  ...                   NaN   \n",
      "2                           Yasmin da Rosa  ...                   NaN   \n",
      "3                           Yasmin da Rosa  ...                   NaN   \n",
      "4                           Yasmin da Rosa  ...                   NaN   \n",
      "\n",
      "  cargo_atual.email_corporativo cargo_atual.cargo_atual  \\\n",
      "0                           NaN                     NaN   \n",
      "1                           NaN                     NaN   \n",
      "2                           NaN                     NaN   \n",
      "3                           NaN                     NaN   \n",
      "4                           NaN                     NaN   \n",
      "\n",
      "  cargo_atual.projeto_atual cargo_atual.cliente cargo_atual.unidade  \\\n",
      "0                       NaN                 NaN                 NaN   \n",
      "1                       NaN                 NaN                 NaN   \n",
      "2                       NaN                 NaN                 NaN   \n",
      "3                       NaN                 NaN                 NaN   \n",
      "4                       NaN                 NaN                 NaN   \n",
      "\n",
      "  cargo_atual.data_admissao cargo_atual.data_ultima_promocao  \\\n",
      "0                       NaN                              NaN   \n",
      "1                       NaN                              NaN   \n",
      "2                       NaN                              NaN   \n",
      "3                       NaN                              NaN   \n",
      "4                       NaN                              NaN   \n",
      "\n",
      "  cargo_atual.nome_superior_imediato cargo_atual.email_superior_imediato  \n",
      "0                                NaN                                 NaN  \n",
      "1                                NaN                                 NaN  \n",
      "2                                NaN                                 NaN  \n",
      "3                                NaN                                 NaN  \n",
      "4                                NaN                                 NaN  \n",
      "\n",
      "[5 rows x 111 columns]\n"
     ]
    }
   ],
   "source": [
    "df = pd.read_csv('../data/processed/df_total.csv')\n",
    "print(df.head())"
   ]
  },
  {
   "cell_type": "code",
   "execution_count": 4,
   "id": "ac50149f",
   "metadata": {},
   "outputs": [
    {
     "name": "stdout",
     "output_type": "stream",
     "text": [
      "<class 'pandas.core.frame.DataFrame'>\n",
      "RangeIndex: 56539 entries, 0 to 56538\n",
      "Columns: 111 entries, codigo_vaga to cargo_atual.email_superior_imediato\n",
      "dtypes: float64(18), int64(2), object(91)\n",
      "memory usage: 47.9+ MB\n",
      "None\n"
     ]
    }
   ],
   "source": [
    "print(df.info())"
   ]
  },
  {
   "cell_type": "code",
   "execution_count": 9,
   "id": "b1f815d5",
   "metadata": {},
   "outputs": [
    {
     "data": {
      "text/plain": [
       "Index(['codigo_vaga', 'informacoes_basicas.data_requicisao',\n",
       "       'informacoes_basicas.limite_esperado_para_contratacao',\n",
       "       'informacoes_basicas.titulo_vaga', 'informacoes_basicas.vaga_sap',\n",
       "       'informacoes_basicas.cliente',\n",
       "       'informacoes_basicas.solicitante_cliente',\n",
       "       'informacoes_basicas.empresa_divisao',\n",
       "       'informacoes_basicas.requisitante',\n",
       "       'informacoes_basicas.analista_responsavel',\n",
       "       ...\n",
       "       'cargo_atual.id_ibrati', 'cargo_atual.email_corporativo',\n",
       "       'cargo_atual.cargo_atual', 'cargo_atual.projeto_atual',\n",
       "       'cargo_atual.cliente', 'cargo_atual.unidade',\n",
       "       'cargo_atual.data_admissao', 'cargo_atual.data_ultima_promocao',\n",
       "       'cargo_atual.nome_superior_imediato',\n",
       "       'cargo_atual.email_superior_imediato'],\n",
       "      dtype='object', length=111)"
      ]
     },
     "execution_count": 9,
     "metadata": {},
     "output_type": "execute_result"
    }
   ],
   "source": [
    "df.columns"
   ]
  },
  {
   "cell_type": "code",
   "execution_count": 5,
   "id": "c474ee1d",
   "metadata": {},
   "outputs": [
    {
     "name": "stdout",
     "output_type": "stream",
     "text": [
      "Vagas únicas: 14081\n"
     ]
    }
   ],
   "source": [
    "# Quantidade de vagas únicas\n",
    "print(\"Vagas únicas:\", df['codigo_vaga'].nunique())"
   ]
  },
  {
   "cell_type": "code",
   "execution_count": 6,
   "id": "5b1055da",
   "metadata": {},
   "outputs": [
    {
     "name": "stdout",
     "output_type": "stream",
     "text": [
      "count    14081.000000\n",
      "mean         4.015269\n",
      "std          4.804337\n",
      "min          1.000000\n",
      "25%          1.000000\n",
      "50%          2.000000\n",
      "75%          5.000000\n",
      "max         25.000000\n",
      "Name: count, dtype: float64\n"
     ]
    }
   ],
   "source": [
    "# Candidatos por vaga\n",
    "candidatos_por_vaga = df['codigo_vaga'].value_counts()\n",
    "print(candidatos_por_vaga.describe())"
   ]
  },
  {
   "cell_type": "code",
   "execution_count": 7,
   "id": "675a6ae7",
   "metadata": {},
   "outputs": [
    {
     "name": "stdout",
     "output_type": "stream",
     "text": [
      "situacao_candidato\n",
      "Prospect                          20005\n",
      "Encaminhado ao Requisitante       16120\n",
      "Inscrito                           3978\n",
      "Não Aprovado pelo Cliente          3489\n",
      "Contratado pela Decision           2757\n",
      "Desistiu                           2349\n",
      "Não Aprovado pelo RH               1765\n",
      "Não Aprovado pelo Requisitante      765\n",
      "Entrevista Técnica                  579\n",
      "Sem interesse nesta vaga            576\n",
      "Entrevista com Cliente              469\n",
      "Em avaliação pelo RH                375\n",
      "Contratado como Hunting             226\n",
      "Aprovado                            209\n",
      "Desistiu da Contratação              59\n",
      "Documentação PJ                       4\n",
      "Documentação CLT                      3\n",
      "Recusado                              2\n",
      "Documentação Cooperado                2\n",
      "Encaminhar Proposta                   2\n",
      "Proposta Aceita                       1\n",
      "Name: count, dtype: int64\n"
     ]
    }
   ],
   "source": [
    "# Situação do candidato\n",
    "print(df['situacao_candidato'].value_counts())"
   ]
  },
  {
   "cell_type": "code",
   "execution_count": null,
   "id": "3d5d2329",
   "metadata": {},
   "outputs": [
    {
     "name": "stdout",
     "output_type": "stream",
     "text": [
      "status_simplificado\n",
      "em_processo    41526\n",
      "negado          9005\n",
      "contratado      3204\n",
      "vazio           2804\n",
      "Name: count, dtype: int64\n"
     ]
    }
   ],
   "source": [
    "#Classificação do status final\n",
    "MAP_STATUS_FINAL = {\n",
    "    # Contratado\n",
    "    \"contratado pela decision\": \"contratado\",\n",
    "    \"contratado como hunting\": \"contratado\",\n",
    "    \"aprovado\": \"contratado\",\n",
    "    \"proposta aceita\": \"contratado\",\n",
    "    \"encaminhar proposta\": \"contratado\",\n",
    "    \"documentação pj\": \"contratado\",\n",
    "    \"documentação clt\": \"contratado\",\n",
    "    \"documentação cooperado\": \"contratado\",\n",
    "\n",
    "    # Negado\n",
    "    \"não aprovado pelo cliente\": \"negado\",\n",
    "    \"não aprovado pelo rh\": \"negado\",\n",
    "    \"não aprovado pelo requisitante\": \"negado\",\n",
    "    \"recusado\": \"negado\",\n",
    "    \"desistiu\": \"negado\",\n",
    "    \"desistiu da contratação\": \"negado\",\n",
    "    \"sem interesse nesta vaga\": \"negado\",\n",
    "\n",
    "    # Em processo\n",
    "    \"prospect\": \"em_processo\",\n",
    "    \"inscrito\": \"em_processo\",\n",
    "    \"encaminhado ao requisitante\": \"em_processo\",\n",
    "    \"entrevista técnica\": \"em_processo\",\n",
    "    \"entrevista com cliente\": \"em_processo\",\n",
    "    \"em avaliação pelo rh\": \"em_processo\",\n",
    "    \n",
    "}\n",
    "\n",
    "df[\"status_simplificado\"] = (\n",
    "    df[\"situacao_candidato\"].str.lower().map(MAP_STATUS_FINAL).fillna(\"vazio\")\n",
    ")\n",
    "\n",
    "print(df[\"status_simplificado\"].value_counts())\n"
   ]
  },
  {
   "cell_type": "code",
   "execution_count": 11,
   "id": "5975815b",
   "metadata": {},
   "outputs": [
    {
     "name": "stdout",
     "output_type": "stream",
     "text": [
      "codigo_vaga\n",
      "informacoes_basicas.data_requicisao\n",
      "informacoes_basicas.limite_esperado_para_contratacao\n",
      "informacoes_basicas.titulo_vaga\n",
      "informacoes_basicas.vaga_sap\n",
      "informacoes_basicas.cliente\n",
      "informacoes_basicas.solicitante_cliente\n",
      "informacoes_basicas.empresa_divisao\n",
      "informacoes_basicas.requisitante\n",
      "informacoes_basicas.analista_responsavel\n",
      "informacoes_basicas.tipo_contratacao\n",
      "informacoes_basicas.prazo_contratacao\n",
      "informacoes_basicas.objetivo_vaga\n",
      "informacoes_basicas.prioridade_vaga\n",
      "informacoes_basicas.origem_vaga\n",
      "informacoes_basicas.superior_imediato\n",
      "informacoes_basicas.nome\n",
      "informacoes_basicas.telefone\n",
      "perfil_vaga.pais\n",
      "perfil_vaga.estado\n",
      "perfil_vaga.cidade\n",
      "perfil_vaga.bairro\n",
      "perfil_vaga.regiao\n",
      "perfil_vaga.local_trabalho\n",
      "perfil_vaga.vaga_especifica_para_pcd\n",
      "perfil_vaga.faixa_etaria\n",
      "perfil_vaga.horario_trabalho\n",
      "perfil_vaga.nivel profissional\n",
      "perfil_vaga.nivel_academico\n",
      "perfil_vaga.nivel_ingles\n",
      "perfil_vaga.nivel_espanhol\n",
      "perfil_vaga.outro_idioma\n",
      "perfil_vaga.areas_atuacao\n",
      "perfil_vaga.principais_atividades\n",
      "perfil_vaga.competencia_tecnicas_e_comportamentais\n",
      "perfil_vaga.demais_observacoes\n",
      "perfil_vaga.viagens_requeridas\n",
      "perfil_vaga.equipamentos_necessarios\n",
      "beneficios.valor_venda\n",
      "beneficios.valor_compra_1\n",
      "beneficios.valor_compra_2\n",
      "informacoes_basicas.data_inicial\n",
      "informacoes_basicas.data_final\n",
      "perfil_vaga.habilidades_comportamentais_necessarias\n",
      "informacoes_basicas.nome_substituto\n",
      "titulo_vaga\n",
      "modalidade\n",
      "codigo_applicant\n",
      "nome_candidato\n",
      "situacao_candidato\n",
      "data_candidatura\n",
      "ultima_atualizacao\n",
      "comentario\n",
      "recrutador\n",
      "cv_pt\n",
      "cv_en\n",
      "infos_basicas.telefone_recado\n",
      "infos_basicas.telefone\n",
      "infos_basicas.objetivo_profissional\n",
      "infos_basicas.data_criacao\n",
      "infos_basicas.inserido_por\n",
      "infos_basicas.email\n",
      "infos_basicas.local\n",
      "infos_basicas.sabendo_de_nos_por\n",
      "infos_basicas.data_atualizacao\n",
      "infos_basicas.codigo_profissional\n",
      "infos_basicas.nome\n",
      "informacoes_pessoais.data_aceite\n",
      "informacoes_pessoais.nome\n",
      "informacoes_pessoais.cpf\n",
      "informacoes_pessoais.fonte_indicacao\n",
      "informacoes_pessoais.email\n",
      "informacoes_pessoais.email_secundario\n",
      "informacoes_pessoais.data_nascimento\n",
      "informacoes_pessoais.telefone_celular\n",
      "informacoes_pessoais.telefone_recado\n",
      "informacoes_pessoais.sexo\n",
      "informacoes_pessoais.estado_civil\n",
      "informacoes_pessoais.pcd\n",
      "informacoes_pessoais.endereco\n",
      "informacoes_pessoais.skype\n",
      "informacoes_pessoais.url_linkedin\n",
      "informacoes_pessoais.facebook\n",
      "informacoes_profissionais.titulo_profissional\n",
      "informacoes_profissionais.area_atuacao\n",
      "informacoes_profissionais.conhecimentos_tecnicos\n",
      "informacoes_profissionais.certificacoes\n",
      "informacoes_profissionais.outras_certificacoes\n",
      "informacoes_profissionais.remuneracao\n",
      "informacoes_profissionais.nivel_profissional\n",
      "formacao_e_idiomas.nivel_academico\n",
      "formacao_e_idiomas.nivel_ingles\n",
      "formacao_e_idiomas.nivel_espanhol\n",
      "formacao_e_idiomas.outro_idioma\n",
      "formacao_e_idiomas.instituicao_ensino_superior\n",
      "formacao_e_idiomas.cursos\n",
      "formacao_e_idiomas.ano_conclusao\n",
      "informacoes_pessoais.download_cv\n",
      "informacoes_profissionais.qualificacoes\n",
      "informacoes_profissionais.experiencias\n",
      "formacao_e_idiomas.outro_curso\n",
      "cargo_atual.id_ibrati\n",
      "cargo_atual.email_corporativo\n",
      "cargo_atual.cargo_atual\n",
      "cargo_atual.projeto_atual\n",
      "cargo_atual.cliente\n",
      "cargo_atual.unidade\n",
      "cargo_atual.data_admissao\n",
      "cargo_atual.data_ultima_promocao\n",
      "cargo_atual.nome_superior_imediato\n",
      "cargo_atual.email_superior_imediato\n",
      "status_simplificado\n"
     ]
    }
   ],
   "source": [
    "for col in df.columns:\n",
    "    print(col)"
   ]
  },
  {
   "cell_type": "code",
   "execution_count": 15,
   "id": "97f283fe",
   "metadata": {},
   "outputs": [
    {
     "data": {
      "text/plain": [
       "codigo_applicant\n",
       "1     2954\n",
       "0     2804\n",
       "2     1845\n",
       "3     1601\n",
       "4     1068\n",
       "5      816\n",
       "6      588\n",
       "7      387\n",
       "8      347\n",
       "25     263\n",
       "Name: count, dtype: int64"
      ]
     },
     "execution_count": 15,
     "metadata": {},
     "output_type": "execute_result"
    }
   ],
   "source": [
    "#Vagas duplicadas\n",
    "df.groupby(\"codigo_vaga\")[\"codigo_applicant\"].nunique().value_counts().head(10)\n",
    "\n"
   ]
  },
  {
   "cell_type": "code",
   "execution_count": 16,
   "id": "a9f54589",
   "metadata": {},
   "outputs": [
    {
     "name": "stdout",
     "output_type": "stream",
     "text": [
      "Total de vagas com contratado: 2624\n"
     ]
    },
    {
     "data": {
      "text/html": [
       "<div>\n",
       "<style scoped>\n",
       "    .dataframe tbody tr th:only-of-type {\n",
       "        vertical-align: middle;\n",
       "    }\n",
       "\n",
       "    .dataframe tbody tr th {\n",
       "        vertical-align: top;\n",
       "    }\n",
       "\n",
       "    .dataframe thead th {\n",
       "        text-align: right;\n",
       "    }\n",
       "</style>\n",
       "<table border=\"1\" class=\"dataframe\">\n",
       "  <thead>\n",
       "    <tr style=\"text-align: right;\">\n",
       "      <th></th>\n",
       "      <th>codigo_vaga</th>\n",
       "      <th>n_contratados</th>\n",
       "    </tr>\n",
       "  </thead>\n",
       "  <tbody>\n",
       "    <tr>\n",
       "      <th>0</th>\n",
       "      <td>2</td>\n",
       "      <td>1</td>\n",
       "    </tr>\n",
       "    <tr>\n",
       "      <th>1</th>\n",
       "      <td>13</td>\n",
       "      <td>7</td>\n",
       "    </tr>\n",
       "    <tr>\n",
       "      <th>2</th>\n",
       "      <td>14</td>\n",
       "      <td>1</td>\n",
       "    </tr>\n",
       "    <tr>\n",
       "      <th>3</th>\n",
       "      <td>15</td>\n",
       "      <td>3</td>\n",
       "    </tr>\n",
       "    <tr>\n",
       "      <th>4</th>\n",
       "      <td>16</td>\n",
       "      <td>1</td>\n",
       "    </tr>\n",
       "  </tbody>\n",
       "</table>\n",
       "</div>"
      ],
      "text/plain": [
       "   codigo_vaga  n_contratados\n",
       "0            2              1\n",
       "1           13              7\n",
       "2           14              1\n",
       "3           15              3\n",
       "4           16              1"
      ]
     },
     "execution_count": 16,
     "metadata": {},
     "output_type": "execute_result"
    }
   ],
   "source": [
    "# Filtrar vagas que tiveram pelo menos 1 contratado\n",
    "vagas_com_contratado = (\n",
    "    df.loc[df[\"status_simplificado\"]==\"contratado\"]\n",
    "      .groupby(\"codigo_vaga\")[\"codigo_applicant\"]\n",
    "      .nunique()\n",
    "      .reset_index(name=\"n_contratados\")\n",
    ")\n",
    "\n",
    "print(\"Total de vagas com contratado:\", vagas_com_contratado.shape[0])\n",
    "vagas_com_contratado.head()\n"
   ]
  },
  {
   "cell_type": "code",
   "execution_count": 17,
   "id": "e64d05cf",
   "metadata": {},
   "outputs": [
    {
     "name": "stdout",
     "output_type": "stream",
     "text": [
      "n_contratados\n",
      "0     11457\n",
      "1      2304\n",
      "2       208\n",
      "3        59\n",
      "4        21\n",
      "5        10\n",
      "6         8\n",
      "10        5\n",
      "7         3\n",
      "9         3\n",
      "8         2\n",
      "11        1\n",
      "Name: count, dtype: int64\n",
      "        codigo_vaga  n_candidatos  n_contratados\n",
      "count  14081.000000  14081.000000   14081.000000\n",
      "mean    7105.029046      3.816135       0.227541\n",
      "std     4108.161470      4.943897       0.592985\n",
      "min        2.000000      0.000000       0.000000\n",
      "25%     3544.000000      1.000000       0.000000\n",
      "50%     7106.000000      2.000000       0.000000\n",
      "75%    10650.000000      5.000000       0.000000\n",
      "max    14222.000000     25.000000      11.000000\n"
     ]
    }
   ],
   "source": [
    "# total de candidatos por vaga\n",
    "cands_por_vaga = (\n",
    "    df.groupby(\"codigo_vaga\")[\"codigo_applicant\"]\n",
    "      .nunique()\n",
    "      .reset_index(name=\"n_candidatos\")\n",
    ")\n",
    "\n",
    "# juntar com info de contratados\n",
    "vagas_info = cands_por_vaga.merge(vagas_com_contratado, on=\"codigo_vaga\", how=\"left\")\n",
    "vagas_info[\"n_contratados\"] = vagas_info[\"n_contratados\"].fillna(0).astype(int)\n",
    "\n",
    "# estatísticas\n",
    "print(vagas_info[\"n_contratados\"].value_counts())\n",
    "print(vagas_info.describe())\n"
   ]
  },
  {
   "cell_type": "code",
   "execution_count": 18,
   "id": "9f38262b",
   "metadata": {},
   "outputs": [
    {
     "name": "stdout",
     "output_type": "stream",
     "text": [
      "status_simplificado\n",
      "em_processo    41526\n",
      "negado          9005\n",
      "contratado      3204\n",
      "vazio           2804\n",
      "Name: count, dtype: int64\n",
      "status_simplificado\n",
      "em_processo    73.446647\n",
      "negado         15.927059\n",
      "contratado      5.666885\n",
      "vazio           4.959409\n",
      "Name: proportion, dtype: float64\n"
     ]
    }
   ],
   "source": [
    "# Contagem absoluta\n",
    "print(df[\"status_simplificado\"].value_counts())\n",
    "\n",
    "# Percentual (%)\n",
    "print(df[\"status_simplificado\"].value_counts(normalize=True)*100)\n"
   ]
  },
  {
   "cell_type": "code",
   "execution_count": 20,
   "id": "49020add",
   "metadata": {},
   "outputs": [
    {
     "name": "stdout",
     "output_type": "stream",
     "text": [
      "Total de vagas com contratado: 2624\n",
      "Distribuição de nº de contratados por vaga:\n",
      "codigo_applicant\n",
      "1     2304\n",
      "2      208\n",
      "3       59\n",
      "4       21\n",
      "5       10\n",
      "6        8\n",
      "10       5\n",
      "7        3\n",
      "9        3\n",
      "8        2\n",
      "Name: count, dtype: int64\n"
     ]
    }
   ],
   "source": [
    "vagas_com_contratado = (\n",
    "    df.query(\"status_simplificado == 'contratado'\")\n",
    "      .groupby(\"codigo_vaga\")[\"codigo_applicant\"]\n",
    "      .nunique()\n",
    ")\n",
    "\n",
    "print(\"Total de vagas com contratado:\", vagas_com_contratado.shape[0])\n",
    "print(\"Distribuição de nº de contratados por vaga:\")\n",
    "print(vagas_com_contratado.value_counts().head(10))\n"
   ]
  },
  {
   "cell_type": "code",
   "execution_count": 22,
   "id": "15906f7d",
   "metadata": {},
   "outputs": [
    {
     "name": "stdout",
     "output_type": "stream",
     "text": [
      "        codigo_vaga  n_candidatos  n_contratados  taxa_contratacao\n",
      "count  14081.000000  14081.000000   14081.000000      11277.000000\n",
      "mean    7105.029046      3.816135       0.227541          0.138093\n",
      "std     4108.161470      4.943897       0.592985          0.314310\n",
      "min        2.000000      0.000000       0.000000          0.000000\n",
      "25%     3544.000000      1.000000       0.000000          0.000000\n",
      "50%     7106.000000      2.000000       0.000000          0.000000\n",
      "75%    10650.000000      5.000000       0.000000          0.000000\n",
      "max    14222.000000     25.000000      11.000000          1.000000\n"
     ]
    },
    {
     "data": {
      "text/plain": [
       "<Axes: >"
      ]
     },
     "execution_count": 22,
     "metadata": {},
     "output_type": "execute_result"
    },
    {
     "data": {
      "image/png": "[encoded data removed]",
      "text/plain": [
       "<Figure size 800x400 with 1 Axes>"
      ]
     },
     "metadata": {},
     "output_type": "display_data"
    }
   ],
   "source": [
    "# número de candidatos únicos por vaga\n",
    "cands_por_vaga = (\n",
    "    df.groupby(\"codigo_vaga\")[\"codigo_applicant\"]\n",
    "      .nunique()\n",
    "      .reset_index(name=\"n_candidatos\")\n",
    ")\n",
    "\n",
    "# número de contratados por vaga\n",
    "contratados_por_vaga = (\n",
    "    df.query(\"status_simplificado == 'contratado'\")\n",
    "      .groupby(\"codigo_vaga\")[\"codigo_applicant\"]\n",
    "      .nunique()\n",
    "      .reset_index(name=\"n_contratados\")\n",
    ")\n",
    "\n",
    "# junta as duas informações\n",
    "vaga_stats = cands_por_vaga.merge(contratados_por_vaga, on=\"codigo_vaga\", how=\"left\")\n",
    "vaga_stats[\"n_contratados\"] = vaga_stats[\"n_contratados\"].fillna(0).astype(int)\n",
    "\n",
    "# taxa de contratação por vaga\n",
    "vaga_stats[\"taxa_contratacao\"] = vaga_stats[\"n_contratados\"] / vaga_stats[\"n_candidatos\"]\n",
    "\n",
    "# estatísticas gerais\n",
    "print(vaga_stats.describe())\n",
    "\n",
    "# distribuição de candidatos por vaga\n",
    "vaga_stats[\"n_candidatos\"].hist(bins=30, figsize=(8,4))\n"
   ]
  },
  {
   "cell_type": "markdown",
   "id": "3c991af6",
   "metadata": {},
   "source": [
    "### Analise Exploratoria"
   ]
  },
  {
   "cell_type": "markdown",
   "id": "c47ddfeb",
   "metadata": {},
   "source": [
    "#### Qualidade e disponibilidade de dados"
   ]
  },
  {
   "cell_type": "code",
   "execution_count": null,
   "id": "97dc50c4",
   "metadata": {},
   "outputs": [
    {
     "name": "stdout",
     "output_type": "stream",
     "text": [
      "                                                missing_rate\n",
      "cargo_atual.email_superior_imediato                 1.000000\n",
      "informacoes_pessoais.url_linkedin                   1.000000\n",
      "informacoes_pessoais.skype                          1.000000\n",
      "cargo_atual.nome_superior_imediato                  1.000000\n",
      "cargo_atual.projeto_atual                           1.000000\n",
      "cargo_atual.email_corporativo                       1.000000\n",
      "informacoes_profissionais.qualificacoes             1.000000\n",
      "informacoes_profissionais.experiencias              1.000000\n",
      "informacoes_pessoais.cpf                            1.000000\n",
      "informacoes_pessoais.email_secundario               1.000000\n",
      "informacoes_pessoais.facebook                       1.000000\n",
      "informacoes_pessoais.telefone_recado                1.000000\n",
      "infos_basicas.telefone_recado                       1.000000\n",
      "cv_en                                               1.000000\n",
      "informacoes_basicas.telefone                        0.999947\n",
      "cargo_atual.id_ibrati                               0.998956\n",
      "cargo_atual.cargo_atual                             0.998939\n",
      "cargo_atual.unidade                                 0.998939\n",
      "cargo_atual.cliente                                 0.998939\n",
      "beneficios.valor_compra_2                           0.996905\n",
      "informacoes_profissionais.nivel_profissional        0.994818\n",
      "informacoes_basicas.nome                            0.986151\n",
      "perfil_vaga.horario_trabalho                        0.985709\n",
      "formacao_e_idiomas.instituicao_ensino_superior      0.985656\n",
      "formacao_e_idiomas.outro_curso                      0.984506\n",
      "cargo_atual.data_ultima_promocao                    0.984153\n",
      "cargo_atual.data_admissao                           0.984153\n",
      "informacoes_profissionais.certificacoes             0.978227\n",
      "informacoes_basicas.nome_substituto                 0.975398\n",
      "modalidade                                          0.970233\n"
     ]
    }
   ],
   "source": [
    "#Percentual de missing por coluna\n",
    "missing = (\n",
    "    df.isna().mean()\n",
    "      .sort_values(ascending=False)\n",
    "      .to_frame(\"missing_rate\")\n",
    ")\n",
    "\n",
    "print(missing.head(30))   # top 20 colunas mais vazias\n"
   ]
  },
  {
   "cell_type": "markdown",
   "id": "f22b576a",
   "metadata": {},
   "source": []
  },
  {
   "cell_type": "code",
   "execution_count": 25,
   "id": "d65640e2",
   "metadata": {},
   "outputs": [
    {
     "name": "stdout",
     "output_type": "stream",
     "text": [
      "codigo_applicant                                      29399\n",
      "nome_candidato                                        26241\n",
      "infos_basicas.codigo_profissional                     23457\n",
      "infos_basicas.data_atualizacao                        23429\n",
      "infos_basicas.data_criacao                            23414\n",
      "infos_basicas.email                                   23312\n",
      "informacoes_pessoais.email                            23312\n",
      "informacoes_pessoais.telefone_celular                 23249\n",
      "infos_basicas.telefone                                23249\n",
      "infos_basicas.nome                                    23188\n",
      "informacoes_pessoais.nome                             23188\n",
      "cv_pt                                                 21937\n",
      "codigo_vaga                                           14081\n",
      "informacoes_basicas.titulo_vaga                       12452\n",
      "comentario                                            12190\n",
      "perfil_vaga.principais_atividades                     11708\n",
      "perfil_vaga.competencia_tecnicas_e_comportamentais    11550\n",
      "titulo_vaga                                            9909\n",
      "informacoes_pessoais.data_aceite                       8404\n",
      "perfil_vaga.demais_observacoes                         6728\n",
      "dtype: int64\n",
      "informacoes_basicas.empresa_divisao        2\n",
      "informacoes_pessoais.pcd                   2\n",
      "informacoes_pessoais.sexo                  2\n",
      "informacoes_basicas.superior_imediato      1\n",
      "perfil_vaga.pais                           1\n",
      "formacao_e_idiomas.outro_curso             1\n",
      "informacoes_pessoais.email_secundario      0\n",
      "infos_basicas.telefone_recado              0\n",
      "cv_en                                      0\n",
      "informacoes_pessoais.telefone_recado       0\n",
      "informacoes_pessoais.cpf                   0\n",
      "informacoes_pessoais.url_linkedin          0\n",
      "informacoes_pessoais.skype                 0\n",
      "informacoes_pessoais.facebook              0\n",
      "informacoes_profissionais.qualificacoes    0\n",
      "informacoes_profissionais.experiencias     0\n",
      "cargo_atual.email_corporativo              0\n",
      "cargo_atual.projeto_atual                  0\n",
      "cargo_atual.nome_superior_imediato         0\n",
      "cargo_atual.email_superior_imediato        0\n",
      "dtype: int64\n"
     ]
    }
   ],
   "source": [
    "#cardinalidade\n",
    "nunique = df.nunique().sort_values(ascending=False)\n",
    "print(nunique.head(20))   # top 20 mais variados\n",
    "print(nunique.tail(20))   # top 20 quase constantes"
   ]
  },
  {
   "cell_type": "code",
   "execution_count": 26,
   "id": "3a2819d2",
   "metadata": {},
   "outputs": [
    {
     "name": "stdout",
     "output_type": "stream",
     "text": [
      "                                            coluna         tipo  missing_rate  \\\n",
      "0                     informacoes_basicas.telefone  categorical         1.000   \n",
      "1                          cargo_atual.cargo_atual  categorical         0.999   \n",
      "2                              cargo_atual.cliente  categorical         0.999   \n",
      "3                              cargo_atual.unidade  categorical         0.999   \n",
      "4                        beneficios.valor_compra_2  categorical         0.997   \n",
      "5     informacoes_profissionais.nivel_profissional  categorical         0.995   \n",
      "6   formacao_e_idiomas.instituicao_ensino_superior  categorical         0.986   \n",
      "7                         informacoes_basicas.nome  categorical         0.986   \n",
      "8                     perfil_vaga.horario_trabalho  categorical         0.986   \n",
      "9                   formacao_e_idiomas.outro_curso  categorical         0.985   \n",
      "10                       cargo_atual.data_admissao  categorical         0.984   \n",
      "11                cargo_atual.data_ultima_promocao  categorical         0.984   \n",
      "12         informacoes_profissionais.certificacoes  categorical         0.978   \n",
      "13             informacoes_basicas.nome_substituto  categorical         0.975   \n",
      "14                                      modalidade  categorical         0.970   \n",
      "15                        perfil_vaga.outro_idioma  categorical         0.969   \n",
      "16  informacoes_profissionais.outras_certificacoes  categorical         0.967   \n",
      "17                              perfil_vaga.bairro  categorical         0.921   \n",
      "18                              perfil_vaga.regiao  categorical         0.909   \n",
      "19                informacoes_pessoais.download_cv  categorical         0.893   \n",
      "\n",
      "    nunique  \n",
      "0         3  \n",
      "1        16  \n",
      "2         4  \n",
      "3         2  \n",
      "4        40  \n",
      "5         9  \n",
      "6       161  \n",
      "7        80  \n",
      "8        33  \n",
      "9         1  \n",
      "10       35  \n",
      "11       35  \n",
      "12      231  \n",
      "13      262  \n",
      "14        5  \n",
      "15       16  \n",
      "16      719  \n",
      "17      132  \n",
      "18       10  \n",
      "19     3884  \n"
     ]
    }
   ],
   "source": [
    "\n",
    "\n",
    "# Função para classificar o tipo de coluna\n",
    "def tipo_coluna(s: pd.Series) -> str:\n",
    "    if pd.api.types.is_numeric_dtype(s):\n",
    "        return \"numeric\"\n",
    "    if pd.api.types.is_datetime64_any_dtype(s):\n",
    "        return \"datetime\"\n",
    "    if s.dtype == \"object\" and s.astype(str).str.len().mean() > 50:\n",
    "        return \"text\"\n",
    "    return \"categorical\"\n",
    "\n",
    "# Construir relatório\n",
    "col_info = pd.DataFrame({\n",
    "    \"coluna\": df.columns,\n",
    "    \"tipo\": [tipo_coluna(df[c]) for c in df.columns],\n",
    "    \"missing_rate\": df.isna().mean().round(3).values,\n",
    "    \"nunique\": [df[c].nunique(dropna=True) for c in df.columns]\n",
    "})\n",
    "\n",
    "# Ordenar para facilitar a leitura\n",
    "col_info = col_info.sort_values(\n",
    "    [\"tipo\", \"missing_rate\", \"nunique\"],\n",
    "    ascending=[True, False, False]\n",
    ").reset_index(drop=True)\n",
    "\n",
    "# Exibir as 20 primeiras linhas como amostra\n",
    "print(col_info.head(20))\n",
    "\n"
   ]
  },
  {
   "cell_type": "markdown",
   "id": "6dd5d940",
   "metadata": {},
   "source": [
    "##### Separação e Limpeza Inicial"
   ]
  },
  {
   "cell_type": "code",
   "execution_count": null,
   "id": "0c01c8eb",
   "metadata": {},
   "outputs": [
    {
     "name": "stdout",
     "output_type": "stream",
     "text": [
      "Dataset A: (53735, 113) Proporção de positivos: 0.832\n",
      "Dataset B: (12209, 113) Proporção de positivos: 0.262\n"
     ]
    }
   ],
   "source": [
    "# ===============================================================\n",
    "#  PARTE 1 - Separação em dois datasets\n",
    "# ===============================================================\n",
    "# Objetivo: Criar dois conjuntos de dados, alinhados com nossos dois problemas de negócio.\n",
    "#  - Dataset A (Triagem): prever se o candidato vale seguir no processo (entrevista).\n",
    "#  - Dataset B (Contratação): prever se o candidato será contratado ao final do processo.\n",
    "# ===============================================================\n",
    "\n",
    "# Dataset A - Triagem\n",
    "df_A = df[df[\"status_simplificado\"] != \"vazio\"].copy()\n",
    "df_A[\"alvo_A\"] = df_A[\"status_simplificado\"].map(\n",
    "    lambda x: 1 if x in [\"contratado\", \"em_processo\"] else 0\n",
    ")\n",
    "print(\"Dataset A:\", df_A.shape, \"Proporção de positivos:\", round(df_A[\"alvo_A\"].mean(), 3))\n",
    "\n",
    "# Dataset B - Contratação\n",
    "df_B = df[df[\"status_simplificado\"].isin([\"contratado\",\"negado\"])].copy()\n",
    "df_B[\"alvo_B\"] = (df_B[\"status_simplificado\"] == \"contratado\").astype(int)\n",
    "print(\"Dataset B:\", df_B.shape, \"Proporção de positivos:\", round(df_B[\"alvo_B\"].mean(), 3))\n",
    "\n"
   ]
  },
  {
   "cell_type": "code",
   "execution_count": null,
   "id": "f36772fa",
   "metadata": {},
   "outputs": [
    {
     "name": "stdout",
     "output_type": "stream",
     "text": [
      "=== Dataset A (Triagem) ===\n",
      "                                             coluna         tipo  \\\n",
      "17                     informacoes_basicas.telefone  categorical   \n",
      "103                         cargo_atual.cargo_atual  categorical   \n",
      "105                             cargo_atual.cliente  categorical   \n",
      "106                             cargo_atual.unidade  categorical   \n",
      "40                        beneficios.valor_compra_2  categorical   \n",
      "89     informacoes_profissionais.nivel_profissional  categorical   \n",
      "16                         informacoes_basicas.nome  categorical   \n",
      "26                     perfil_vaga.horario_trabalho  categorical   \n",
      "94   formacao_e_idiomas.instituicao_ensino_superior  categorical   \n",
      "100                  formacao_e_idiomas.outro_curso  categorical   \n",
      "107                       cargo_atual.data_admissao  categorical   \n",
      "108                cargo_atual.data_ultima_promocao  categorical   \n",
      "86          informacoes_profissionais.certificacoes  categorical   \n",
      "44              informacoes_basicas.nome_substituto  categorical   \n",
      "31                         perfil_vaga.outro_idioma  categorical   \n",
      "46                                       modalidade  categorical   \n",
      "87   informacoes_profissionais.outras_certificacoes  categorical   \n",
      "21                               perfil_vaga.bairro  categorical   \n",
      "22                               perfil_vaga.regiao  categorical   \n",
      "97                 informacoes_pessoais.download_cv  categorical   \n",
      "\n",
      "     missing_rate  nunique  \n",
      "17          1.000        2  \n",
      "103         0.999       16  \n",
      "105         0.999        4  \n",
      "106         0.999        2  \n",
      "40          0.997       39  \n",
      "89          0.995        9  \n",
      "16          0.986       79  \n",
      "26          0.985       32  \n",
      "94          0.985      161  \n",
      "100         0.984        1  \n",
      "107         0.983       35  \n",
      "108         0.983       35  \n",
      "86          0.977      231  \n",
      "44          0.974      249  \n",
      "31          0.969       14  \n",
      "46          0.969        5  \n",
      "87          0.965      719  \n",
      "21          0.921      127  \n",
      "22          0.910       10  \n",
      "97          0.887     3884  \n",
      "=== Dataset B (Contratação) ===\n",
      "                                               coluna         tipo  \\\n",
      "17                       informacoes_basicas.telefone  categorical   \n",
      "103                           cargo_atual.cargo_atual  categorical   \n",
      "105                               cargo_atual.cliente  categorical   \n",
      "106                               cargo_atual.unidade  categorical   \n",
      "89       informacoes_profissionais.nivel_profissional  categorical   \n",
      "40                          beneficios.valor_compra_2  categorical   \n",
      "94     formacao_e_idiomas.instituicao_ensino_superior  categorical   \n",
      "31                           perfil_vaga.outro_idioma  categorical   \n",
      "86            informacoes_profissionais.certificacoes  categorical   \n",
      "26                       perfil_vaga.horario_trabalho  categorical   \n",
      "16                           informacoes_basicas.nome  categorical   \n",
      "87     informacoes_profissionais.outras_certificacoes  categorical   \n",
      "100                    formacao_e_idiomas.outro_curso  categorical   \n",
      "107                         cargo_atual.data_admissao  categorical   \n",
      "108                  cargo_atual.data_ultima_promocao  categorical   \n",
      "44                informacoes_basicas.nome_substituto  categorical   \n",
      "97                   informacoes_pessoais.download_cv  categorical   \n",
      "46                                         modalidade  categorical   \n",
      "85   informacoes_profissionais.conhecimentos_tecnicos  categorical   \n",
      "21                                 perfil_vaga.bairro  categorical   \n",
      "\n",
      "     missing_rate  nunique  \n",
      "17          1.000        1  \n",
      "103         0.996       13  \n",
      "105         0.996        4  \n",
      "106         0.996        2  \n",
      "89          0.994        8  \n",
      "40          0.993       31  \n",
      "94          0.986       84  \n",
      "31          0.985       13  \n",
      "86          0.979      105  \n",
      "26          0.977       24  \n",
      "16          0.975       67  \n",
      "87          0.973      240  \n",
      "100         0.964        1  \n",
      "107         0.964       31  \n",
      "108         0.964       31  \n",
      "44          0.950      204  \n",
      "97          0.917      880  \n",
      "46          0.914        5  \n",
      "85          0.910      781  \n",
      "21          0.905       88  \n"
     ]
    }
   ],
   "source": [
    "\n",
    "# ===============================================================\n",
    "# PARTE 2 - Relatório de colunas\n",
    "# ===============================================================\n",
    "# Objetivo: Avaliar a qualidade das colunas em termos de tipo, preenchimento e utilidade.\n",
    "# Isso nos ajuda a decidir quais colunas manter, descartar ou tratar separadamente.\n",
    "# Critérios principais:\n",
    "#   - Missing > 70% → provavelmente descartar\n",
    "#   - Nununique = 1 (constante) → descartar\n",
    "#   - IDs e chaves técnicas → descartar\n",
    "#   - Colunas pós-desfecho (com \"contratado\", \"aprovado\", etc.) → descartar para evitar vazamento\n",
    "# ===============================================================\n",
    "\n",
    "def gerar_relatorio(df):\n",
    "    def tipo_coluna(s):\n",
    "        import pandas as pd\n",
    "        if pd.api.types.is_numeric_dtype(s): return \"numeric\"\n",
    "        if pd.api.types.is_datetime64_any_dtype(s): return \"datetime\"\n",
    "        if s.dtype == \"object\" and s.astype(str).str.len().mean() > 50:\n",
    "            return \"text\"\n",
    "        return \"categorical\"\n",
    "\n",
    "    col_info = pd.DataFrame({\n",
    "        \"coluna\": df.columns,\n",
    "        \"tipo\": [tipo_coluna(df[c]) for c in df.columns],\n",
    "        \"missing_rate\": df.isna().mean().round(3).values,\n",
    "        \"nunique\": [df[c].nunique(dropna=True) for c in df.columns]\n",
    "    })\n",
    "\n",
    "    return col_info.sort_values([\"tipo\",\"missing_rate\"], ascending=[True, False])\n",
    "\n",
    "# Relatórios para A e B\n",
    "rel_A = gerar_relatorio(df_A)\n",
    "rel_B = gerar_relatorio(df_B)\n",
    "\n",
    "print(\"=== Dataset A (Triagem) ===\")\n",
    "print(rel_A.head(20))\n",
    "print(\"=== Dataset B (Contratação) ===\")\n",
    "print(rel_B.head(20))\n",
    "\n",
    "# Salvar para documentação\n",
    "rel_A.to_csv(\"../data/interim/relatorio_dataset_A.csv\", index=False)\n",
    "rel_B.to_csv(\"../data/interim/relatorio_dataset_B.csv\", index=False)\n",
    "\n",
    "\n"
   ]
  },
  {
   "cell_type": "code",
   "execution_count": 33,
   "id": "cde9eb8c",
   "metadata": {},
   "outputs": [
    {
     "name": "stdout",
     "output_type": "stream",
     "text": [
      "Colunas a remover: ['informacoes_pessoais.download_cv', 'informacoes_basicas.nome_substituto', 'formacao_e_idiomas.nivel_ingles', 'informacoes_profissionais.outras_certificacoes', 'informacoes_basicas.nome', 'informacoes_profissionais.qualificacoes', 'formacao_e_idiomas.nivel_academico', 'formacao_e_idiomas.nivel_espanhol', 'informacoes_profissionais.remuneracao', 'infos_basicas.sabendo_de_nos_por', 'cargo_atual.projeto_atual', 'cargo_atual.nome_superior_imediato', 'formacao_e_idiomas.instituicao_ensino_superior', 'beneficios.valor_compra_2', 'cargo_atual.unidade', 'cargo_atual.cargo_atual', 'cargo_atual.cliente', 'perfil_vaga.habilidades_comportamentais_necessarias', 'informacoes_basicas.data_inicial', 'infos_basicas.telefone_recado', 'cargo_atual.email_corporativo', 'informacoes_basicas.superior_imediato', 'cargo_atual.data_admissao', 'informacoes_profissionais.certificacoes', 'informacoes_pessoais.pcd', 'informacoes_pessoais.email_secundario', 'formacao_e_idiomas.ano_conclusao', 'formacao_e_idiomas.cursos', 'informacoes_basicas.telefone', 'cargo_atual.email_superior_imediato', 'modalidade', 'perfil_vaga.outro_idioma', 'perfil_vaga.equipamentos_necessarios', 'perfil_vaga.horario_trabalho', 'perfil_vaga.bairro', 'informacoes_pessoais.sexo', 'informacoes_pessoais.url_linkedin', 'cargo_atual.data_ultima_promocao', 'informacoes_pessoais.telefone_recado', 'informacoes_profissionais.nivel_profissional', 'cargo_atual.id_ibrati', 'formacao_e_idiomas.outro_curso', 'cv_en', 'informacoes_pessoais.cpf', 'informacoes_basicas.data_final', 'informacoes_profissionais.experiencias', 'informacoes_profissionais.area_atuacao', 'informacoes_pessoais.facebook', 'informacoes_profissionais.conhecimentos_tecnicos', 'informacoes_pessoais.estado_civil', 'perfil_vaga.regiao', 'perfil_vaga.pais', 'informacoes_pessoais.skype', 'comentario']\n",
      "Colunas a remover: ['informacoes_pessoais.download_cv', 'informacoes_basicas.nome_substituto', 'formacao_e_idiomas.nivel_ingles', 'informacoes_profissionais.outras_certificacoes', 'informacoes_basicas.nome', 'informacoes_profissionais.qualificacoes', 'formacao_e_idiomas.nivel_academico', 'formacao_e_idiomas.nivel_espanhol', 'informacoes_profissionais.remuneracao', 'infos_basicas.sabendo_de_nos_por', 'cargo_atual.projeto_atual', 'cargo_atual.nome_superior_imediato', 'formacao_e_idiomas.instituicao_ensino_superior', 'beneficios.valor_compra_2', 'cargo_atual.unidade', 'cargo_atual.cargo_atual', 'cargo_atual.cliente', 'perfil_vaga.habilidades_comportamentais_necessarias', 'informacoes_basicas.data_inicial', 'infos_basicas.telefone_recado', 'cargo_atual.email_corporativo', 'informacoes_basicas.superior_imediato', 'informacoes_profissionais.certificacoes', 'cargo_atual.data_admissao', 'informacoes_pessoais.pcd', 'informacoes_pessoais.email_secundario', 'formacao_e_idiomas.ano_conclusao', 'formacao_e_idiomas.cursos', 'informacoes_basicas.telefone', 'cargo_atual.email_superior_imediato', 'modalidade', 'perfil_vaga.outro_idioma', 'perfil_vaga.equipamentos_necessarios', 'perfil_vaga.horario_trabalho', 'perfil_vaga.bairro', 'informacoes_pessoais.sexo', 'informacoes_pessoais.url_linkedin', 'cargo_atual.data_ultima_promocao', 'informacoes_pessoais.telefone_recado', 'informacoes_profissionais.nivel_profissional', 'cargo_atual.id_ibrati', 'formacao_e_idiomas.outro_curso', 'cv_en', 'informacoes_pessoais.cpf', 'informacoes_basicas.data_final', 'informacoes_profissionais.experiencias', 'informacoes_profissionais.area_atuacao', 'informacoes_pessoais.facebook', 'informacoes_profissionais.conhecimentos_tecnicos', 'informacoes_pessoais.estado_civil', 'perfil_vaga.regiao', 'perfil_vaga.pais', 'informacoes_pessoais.skype']\n",
      "Dataset A após limpeza: (53735, 59)\n",
      "Dataset B após limpeza: (12209, 60)\n"
     ]
    }
   ],
   "source": [
    "# ===============================================================\n",
    "#  PARTE 3 - Limpeza automática inicial\n",
    "# ===============================================================\n",
    "# Objetivo: aplicar critérios objetivos para já eliminar colunas inúteis.\n",
    "# Passos:\n",
    "#   1. Remover IDs e chaves técnicas\n",
    "#   2. Remover colunas com missing > 70%\n",
    "#   3. Remover colunas constantes\n",
    "#   4. Remover colunas que possam gerar vazamento de informação\n",
    "# ===============================================================\n",
    "\n",
    "def limpar_colunas(df, relatorio):\n",
    "    # 1. Identificar colunas de ID/chave\n",
    "    ids = [c for c in df.columns if \"codigo\" in c.lower() or \"id\" in c.lower()]\n",
    "    \n",
    "    # 2. Colunas com muito missing\n",
    "    missing_cols = relatorio.query(\"missing_rate > 0.7\")[\"coluna\"].tolist()\n",
    "    \n",
    "    # 3. Colunas constantes\n",
    "    const_cols = relatorio.query(\"nunique == 1\")[\"coluna\"].tolist()\n",
    "\n",
    "    \n",
    "    drop_cols = list(set(missing_cols + const_cols))\n",
    "    print(\"Colunas a remover:\", drop_cols)\n",
    "    \n",
    "    return df.drop(columns=drop_cols, errors=\"ignore\")\n",
    "\n",
    "# Aplicar limpeza\n",
    "df_A_clean = limpar_colunas(df_A, rel_A)\n",
    "df_B_clean = limpar_colunas(df_B, rel_B)\n",
    "\n",
    "print(\"Dataset A após limpeza:\", df_A_clean.shape)\n",
    "print(\"Dataset B após limpeza:\", df_B_clean.shape)\n"
   ]
  },
  {
   "cell_type": "code",
   "execution_count": 34,
   "id": "bf6f0a71",
   "metadata": {},
   "outputs": [
    {
     "name": "stdout",
     "output_type": "stream",
     "text": [
      "Arquivos salvos em data/interim/:\n",
      " - dataset_triagem.csv\n",
      " - dataset_contratacao.csv\n",
      " - relatorio_dataset_triagem.csv\n",
      " - relatorio_dataset_contratacao.csv\n"
     ]
    }
   ],
   "source": [
    "# ===============================================================\n",
    "#  PARTE 4 - Salvamento dos datasets limpos\n",
    "# ===============================================================\n",
    "# Os arquivos ficam em data/interim/ porque são intermediários:\n",
    "#   - Já não são raw (originais), mas ainda não estão prontos para modelagem.\n",
    "#   - Depois, quando fizermos feature engineering, salvamos em data/processed/.\n",
    "# ===============================================================\n",
    "\n",
    "df_A_clean.to_csv(\"../data/interim/dataset_triagem.csv\", index=False)\n",
    "df_B_clean.to_csv(\"../data/interim/dataset_contratacao.csv\", index=False)\n",
    "\n",
    "print(\"Arquivos salvos em data/interim/:\")\n",
    "print(\" - dataset_triagem.csv\")\n",
    "print(\" - dataset_contratacao.csv\")\n",
    "print(\" - relatorio_dataset_triagem.csv\")\n",
    "print(\" - relatorio_dataset_contratacao.csv\")"
   ]
  }
 ],
 "metadata": {
  "kernelspec": {
   "display_name": ".venv",
   "language": "python",
   "name": "python3"
  },
  "language_info": {
   "codemirror_mode": {
    "name": "ipython",
    "version": 3
   },
   "file_extension": ".py",
   "mimetype": "text/x-python",
   "name": "python",
   "nbconvert_exporter": "python",
   "pygments_lexer": "ipython3",
   "version": "3.11.7"
  }
 },
 "nbformat": 4,
 "nbformat_minor": 5
}
